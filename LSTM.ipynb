{
 "cells": [
  {
   "cell_type": "code",
   "execution_count": 1,
   "metadata": {},
   "outputs": [
    {
     "name": "stderr",
     "output_type": "stream",
     "text": [
      "Using TensorFlow backend.\n",
      "c:\\users\\17801\\pycharmprojects\\nlptt\\venv\\lib\\site-packages\\tensorflow\\python\\framework\\dtypes.py:517: FutureWarning: Passing (type, 1) or '1type' as a synonym of type is deprecated; in a future version of numpy, it will be understood as (type, (1,)) / '(1,)type'.\n",
      "  _np_qint8 = np.dtype([(\"qint8\", np.int8, 1)])\n",
      "c:\\users\\17801\\pycharmprojects\\nlptt\\venv\\lib\\site-packages\\tensorflow\\python\\framework\\dtypes.py:518: FutureWarning: Passing (type, 1) or '1type' as a synonym of type is deprecated; in a future version of numpy, it will be understood as (type, (1,)) / '(1,)type'.\n",
      "  _np_quint8 = np.dtype([(\"quint8\", np.uint8, 1)])\n",
      "c:\\users\\17801\\pycharmprojects\\nlptt\\venv\\lib\\site-packages\\tensorflow\\python\\framework\\dtypes.py:519: FutureWarning: Passing (type, 1) or '1type' as a synonym of type is deprecated; in a future version of numpy, it will be understood as (type, (1,)) / '(1,)type'.\n",
      "  _np_qint16 = np.dtype([(\"qint16\", np.int16, 1)])\n",
      "c:\\users\\17801\\pycharmprojects\\nlptt\\venv\\lib\\site-packages\\tensorflow\\python\\framework\\dtypes.py:520: FutureWarning: Passing (type, 1) or '1type' as a synonym of type is deprecated; in a future version of numpy, it will be understood as (type, (1,)) / '(1,)type'.\n",
      "  _np_quint16 = np.dtype([(\"quint16\", np.uint16, 1)])\n",
      "c:\\users\\17801\\pycharmprojects\\nlptt\\venv\\lib\\site-packages\\tensorflow\\python\\framework\\dtypes.py:521: FutureWarning: Passing (type, 1) or '1type' as a synonym of type is deprecated; in a future version of numpy, it will be understood as (type, (1,)) / '(1,)type'.\n",
      "  _np_qint32 = np.dtype([(\"qint32\", np.int32, 1)])\n",
      "c:\\users\\17801\\pycharmprojects\\nlptt\\venv\\lib\\site-packages\\tensorflow\\python\\framework\\dtypes.py:526: FutureWarning: Passing (type, 1) or '1type' as a synonym of type is deprecated; in a future version of numpy, it will be understood as (type, (1,)) / '(1,)type'.\n",
      "  np_resource = np.dtype([(\"resource\", np.ubyte, 1)])\n"
     ]
    }
   ],
   "source": [
    "import pandas as pd\n",
    "import numpy as np\n",
    "import matplotlib.pyplot as plt\n",
    "from sklearn.preprocessing import MinMaxScaler\n",
    "from keras.models import Sequential\n",
    "from keras.layers import Dense, Dropout, LSTM"
   ]
  },
  {
   "cell_type": "code",
   "execution_count": 2,
   "metadata": {},
   "outputs": [],
   "source": [
    "#导入数据集\n",
    "SELECT = 'happy'\n",
    "df = pd.read_csv('弗洛伊德时间序列.csv')\n",
    "# setting the index as date\n",
    "df['date'] = pd.to_datetime(df.date,format='%Y-%m-%d')\n",
    "df.index = df['date']\n",
    "\n",
    "#creating dataframe\n",
    "data = df.sort_index(ascending=True, axis=0)\n",
    "new_data = pd.DataFrame(index=range(0,len(df)),columns=['date', SELECT])    #行索引是日期，列索引是“date”和所选的情绪\n",
    "for i in range(0,len(data)):\n",
    "    new_data['date'][i] = data['date'][i]\n",
    "    new_data[SELECT][i] = data[SELECT][i]\n",
    "\n",
    "new_data.index = new_data.date\n",
    "new_data.drop('date', axis=1, inplace=True)"
   ]
  },
  {
   "cell_type": "code",
   "execution_count": 3,
   "metadata": {},
   "outputs": [
    {
     "data": {
      "text/plain": "           happy\ndate            \n2021-01-02     0\n2021-01-05     0\n2021-01-06     0\n2021-01-07     1\n2021-01-08     0\n...          ...\n2021-04-19   NaN\n2021-04-20   NaN\n2021-04-21   NaN\n2021-04-22   NaN\nNaT          NaN\n\n[102 rows x 1 columns]",
      "text/html": "<div>\n<style scoped>\n    .dataframe tbody tr th:only-of-type {\n        vertical-align: middle;\n    }\n\n    .dataframe tbody tr th {\n        vertical-align: top;\n    }\n\n    .dataframe thead th {\n        text-align: right;\n    }\n</style>\n<table border=\"1\" class=\"dataframe\">\n  <thead>\n    <tr style=\"text-align: right;\">\n      <th></th>\n      <th>happy</th>\n    </tr>\n    <tr>\n      <th>date</th>\n      <th></th>\n    </tr>\n  </thead>\n  <tbody>\n    <tr>\n      <th>2021-01-02</th>\n      <td>0</td>\n    </tr>\n    <tr>\n      <th>2021-01-05</th>\n      <td>0</td>\n    </tr>\n    <tr>\n      <th>2021-01-06</th>\n      <td>0</td>\n    </tr>\n    <tr>\n      <th>2021-01-07</th>\n      <td>1</td>\n    </tr>\n    <tr>\n      <th>2021-01-08</th>\n      <td>0</td>\n    </tr>\n    <tr>\n      <th>...</th>\n      <td>...</td>\n    </tr>\n    <tr>\n      <th>2021-04-19</th>\n      <td>NaN</td>\n    </tr>\n    <tr>\n      <th>2021-04-20</th>\n      <td>NaN</td>\n    </tr>\n    <tr>\n      <th>2021-04-21</th>\n      <td>NaN</td>\n    </tr>\n    <tr>\n      <th>2021-04-22</th>\n      <td>NaN</td>\n    </tr>\n    <tr>\n      <th>NaT</th>\n      <td>NaN</td>\n    </tr>\n  </tbody>\n</table>\n<p>102 rows × 1 columns</p>\n</div>"
     },
     "execution_count": 3,
     "metadata": {},
     "output_type": "execute_result"
    }
   ],
   "source": [
    "new_data"
   ]
  },
  {
   "cell_type": "code",
   "execution_count": 4,
   "metadata": {},
   "outputs": [
    {
     "data": {
      "text/plain": "array([[0.0],\n       [0.0],\n       [0.0],\n       [1.0],\n       [0.0],\n       [0.0],\n       [0.0],\n       [0.0],\n       [0.0],\n       [0.0],\n       [0.0],\n       [0.0],\n       [0.0],\n       [1.0],\n       [0.0],\n       [0.0],\n       [0.0],\n       [0.0],\n       [0.0],\n       [0.0],\n       [0.0],\n       [0.0],\n       [0.0],\n       [0.0],\n       [0.0],\n       [0.0],\n       [0.0],\n       [0.0],\n       [0.0],\n       [0.0],\n       [0.0],\n       [0.0],\n       [0.0],\n       [0.0],\n       [0.0],\n       [0.0],\n       [0.0],\n       [0.0],\n       [0.0],\n       [0.0],\n       [0.0],\n       [0.0],\n       [0.0],\n       [0.0],\n       [0.0],\n       [0.0],\n       [1.0],\n       [0.0],\n       [0.0],\n       [0.0],\n       [0.0],\n       [0.0],\n       [1.0],\n       [1.0],\n       [1.0],\n       [0.0],\n       [0.0],\n       [0.0],\n       [3.0],\n       [3.0],\n       [0.0],\n       [17.0],\n       [0.0],\n       [1.0],\n       [3.0],\n       [0.0],\n       [0.0],\n       [0.0],\n       [0.0],\n       [0.0],\n       [0.0],\n       [0.0],\n       [0.0],\n       [0.0],\n       [0.0],\n       [0.0],\n       [3.0],\n       [7.0],\n       [5.0],\n       [3.0],\n       [3.0],\n       [0.0],\n       [0.0],\n       [0.0],\n       [0.0],\n       [3.0],\n       [0.0],\n       [3.0],\n       [2.0],\n       [0.0],\n       [3.0],\n       [4.0],\n       [4.0],\n       [2.0],\n       [nan],\n       [nan],\n       [nan],\n       [nan],\n       [nan],\n       [nan],\n       [nan],\n       [nan]], dtype=object)"
     },
     "execution_count": 4,
     "metadata": {},
     "output_type": "execute_result"
    }
   ],
   "source": [
    "dataset = new_data.values\n",
    "dataset"
   ]
  },
  {
   "cell_type": "code",
   "execution_count": 5,
   "metadata": {},
   "outputs": [],
   "source": [
    "#选定训练集和测试集\n",
    "train = dataset[0:94,:]\n",
    "valid = dataset[94:,:]"
   ]
  },
  {
   "cell_type": "code",
   "execution_count": 6,
   "metadata": {},
   "outputs": [
    {
     "data": {
      "text/plain": "array([[0.        ],\n       [0.        ],\n       [0.        ],\n       [0.05882353],\n       [0.        ],\n       [0.        ],\n       [0.        ],\n       [0.        ],\n       [0.        ],\n       [0.        ],\n       [0.        ],\n       [0.        ],\n       [0.        ],\n       [0.05882353],\n       [0.        ],\n       [0.        ],\n       [0.        ],\n       [0.        ],\n       [0.        ],\n       [0.        ],\n       [0.        ],\n       [0.        ],\n       [0.        ],\n       [0.        ],\n       [0.        ],\n       [0.        ],\n       [0.        ],\n       [0.        ],\n       [0.        ],\n       [0.        ],\n       [0.        ],\n       [0.        ],\n       [0.        ],\n       [0.        ],\n       [0.        ],\n       [0.        ],\n       [0.        ],\n       [0.        ],\n       [0.        ],\n       [0.        ],\n       [0.        ],\n       [0.        ],\n       [0.        ],\n       [0.        ],\n       [0.        ],\n       [0.        ],\n       [0.05882353],\n       [0.        ],\n       [0.        ],\n       [0.        ],\n       [0.        ],\n       [0.        ],\n       [0.05882353],\n       [0.05882353],\n       [0.05882353],\n       [0.        ],\n       [0.        ],\n       [0.        ],\n       [0.17647059],\n       [0.17647059],\n       [0.        ],\n       [1.        ],\n       [0.        ],\n       [0.05882353],\n       [0.17647059],\n       [0.        ],\n       [0.        ],\n       [0.        ],\n       [0.        ],\n       [0.        ],\n       [0.        ],\n       [0.        ],\n       [0.        ],\n       [0.        ],\n       [0.        ],\n       [0.        ],\n       [0.17647059],\n       [0.41176471],\n       [0.29411765],\n       [0.17647059],\n       [0.17647059],\n       [0.        ],\n       [0.        ],\n       [0.        ],\n       [0.        ],\n       [0.17647059],\n       [0.        ],\n       [0.17647059],\n       [0.11764706],\n       [0.        ],\n       [0.17647059],\n       [0.23529412],\n       [0.23529412],\n       [0.11764706],\n       [       nan],\n       [       nan],\n       [       nan],\n       [       nan],\n       [       nan],\n       [       nan],\n       [       nan],\n       [       nan]])"
     },
     "execution_count": 6,
     "metadata": {},
     "output_type": "execute_result"
    }
   ],
   "source": [
    "#对数据进行归一化处理\n",
    "scaler = MinMaxScaler(feature_range=(0, 1))\n",
    "scaled_data = scaler.fit_transform(dataset)\n",
    "scaled_data"
   ]
  },
  {
   "cell_type": "code",
   "execution_count": 7,
   "metadata": {},
   "outputs": [],
   "source": [
    "#我们训练模型的方法是，使用每个数前面5个值来进行训练。\n",
    "x_train, y_train = [], []\n",
    "for i in range(5,len(train)):       #i的值从10到85\n",
    "    x_train.append(scaled_data[i-5:i,0]) #将训练集切片选取i-5行到i行的第[0]列数据\n",
    "    y_train.append(scaled_data[i,0])#训练集切片选取第i行第0列的那个元素\n",
    "    \n",
    "x_train, y_train = np.array(x_train), np.array(y_train)     #将所切得的数据转为向量矩阵型式"
   ]
  },
  {
   "cell_type": "code",
   "execution_count": 8,
   "metadata": {},
   "outputs": [
    {
     "data": {
      "text/plain": "(89, 5)"
     },
     "execution_count": 8,
     "metadata": {},
     "output_type": "execute_result"
    }
   ],
   "source": [
    "x_train.shape\n",
    "#x_train.shape[0]\n",
    "#x_train"
   ]
  },
  {
   "cell_type": "code",
   "execution_count": 9,
   "metadata": {},
   "outputs": [
    {
     "data": {
      "text/plain": "(89,)"
     },
     "execution_count": 9,
     "metadata": {},
     "output_type": "execute_result"
    }
   ],
   "source": [
    "y_train.shape\n",
    "#y_train"
   ]
  },
  {
   "cell_type": "code",
   "execution_count": 10,
   "metadata": {},
   "outputs": [],
   "source": [
    "x_train = np.reshape(x_train, (x_train.shape[0],x_train.shape[1],1)) #将x_train矩阵重新分成80个，5行1列的矩阵\n",
    "#x_train"
   ]
  },
  {
   "cell_type": "code",
   "execution_count": 11,
   "metadata": {},
   "outputs": [
    {
     "name": "stdout",
     "output_type": "stream",
     "text": [
      "Epoch 1/1\n",
      " - 1s - loss: 0.0176\n"
     ]
    },
    {
     "data": {
      "text/plain": "<keras.callbacks.History at 0x1cd9fbffd68>"
     },
     "execution_count": 11,
     "metadata": {},
     "output_type": "execute_result"
    }
   ],
   "source": [
    "#构建LSTM网络。Sequential表示顺序模型，核心操作是向其中添加layer（图层），除了LSTM，还可以添加卷积层Conv2D，最大池化层MaxPooling，\n",
    "# 展平层Flatten等。\n",
    "# create and fit the LSTM network\n",
    "model = Sequential() # 顺序模型，核心操作是添加layer（图层）\n",
    "model.add(LSTM(units=50, return_sequences=True, input_shape=(x_train.shape[1],1)))  #每次输入一个多维向量，内部隐藏50个神经元\n",
    "model.add(LSTM(units=50))\n",
    "model.add(Dense(1)) #全连接层\n",
    "\n",
    "model.compile(loss='mean_squared_error', optimizer='adam') #选择优化器，并指定损失函数\n",
    "model.fit(x_train, y_train, epochs=1, batch_size=1, verbose=2)"
   ]
  },
  {
   "cell_type": "code",
   "execution_count": 12,
   "metadata": {},
   "outputs": [],
   "source": [
    "#我们将借助每个数据前面的5个数来预测这个数。一共预测7个数。\n",
    "inputs = new_data[len(new_data) - len(valid) - 12:len(new_data) -7].values #进行切片[92-7-12:85]=[73:85]\n",
    "#inputs = new_data[len(new_data) - len(valid) - 5:].values #进行切片[92-7-5:]=[80:]\n",
    "#print(\"1\",inputs)\n",
    "inputs = inputs.reshape(-1,1)\n",
    "#print(\"2\",inputs)\n",
    "inputs  = scaler.transform(inputs)\n",
    "#print(\"3\",inputs)"
   ]
  },
  {
   "cell_type": "code",
   "execution_count": 13,
   "metadata": {},
   "outputs": [
    {
     "data": {
      "text/plain": "(13, 1)"
     },
     "execution_count": 13,
     "metadata": {},
     "output_type": "execute_result"
    }
   ],
   "source": [
    "inputs.shape"
   ]
  },
  {
   "cell_type": "code",
   "execution_count": 14,
   "metadata": {},
   "outputs": [],
   "source": [
    "#X_test代表的是预测集在模型上的输入。\n",
    "X_test = []\n",
    "for i in range(5,inputs.shape[0]):\n",
    "    X_test.append(inputs[i-5:i,0])\n",
    "X_test = np.array(X_test)\n",
    "\n",
    "X_test = np.reshape(X_test, (X_test.shape[0],X_test.shape[1],1))"
   ]
  },
  {
   "cell_type": "code",
   "execution_count": 15,
   "metadata": {},
   "outputs": [
    {
     "data": {
      "text/plain": "array([[[0.        ],\n        [0.        ],\n        [0.        ],\n        [0.17647059],\n        [0.        ]],\n\n       [[0.        ],\n        [0.        ],\n        [0.17647059],\n        [0.        ],\n        [0.17647059]],\n\n       [[0.        ],\n        [0.17647059],\n        [0.        ],\n        [0.17647059],\n        [0.11764706]],\n\n       [[0.17647059],\n        [0.        ],\n        [0.17647059],\n        [0.11764706],\n        [0.        ]],\n\n       [[0.        ],\n        [0.17647059],\n        [0.11764706],\n        [0.        ],\n        [0.17647059]],\n\n       [[0.17647059],\n        [0.11764706],\n        [0.        ],\n        [0.17647059],\n        [0.23529412]],\n\n       [[0.11764706],\n        [0.        ],\n        [0.17647059],\n        [0.23529412],\n        [0.23529412]],\n\n       [[0.        ],\n        [0.17647059],\n        [0.23529412],\n        [0.23529412],\n        [0.11764706]]])"
     },
     "execution_count": 15,
     "metadata": {},
     "output_type": "execute_result"
    }
   ],
   "source": [
    "X_test.shape\n",
    "X_test"
   ]
  },
  {
   "cell_type": "code",
   "execution_count": 16,
   "metadata": {
    "pycharm": {
     "name": "#%%\n"
    }
   },
   "outputs": [
    {
     "name": "stdout",
     "output_type": "stream",
     "text": [
      "1--- [[0.02441428]\n",
      " [0.02880493]\n",
      " [0.03241991]\n",
      " [0.03221057]\n",
      " [0.0318577 ]\n",
      " [0.03775118]\n",
      " [0.04088528]\n",
      " [0.04213174]]\n",
      "2--- [[0.41504273]\n",
      " [0.48968384]\n",
      " [0.55113846]\n",
      " [0.5475797 ]\n",
      " [0.5415809 ]\n",
      " [0.6417701 ]\n",
      " [0.69504976]\n",
      " [0.71623963]]\n"
     ]
    }
   ],
   "source": [
    "#开始用模型预测，并将标准化后的数据转化为原始数据。\n",
    "closing_price = model.predict(X_test)\n",
    "print(\"1---\",closing_price)\n",
    "closing_price = scaler.inverse_transform(closing_price)\n",
    "print(\"2---\",closing_price)"
   ]
  },
  {
   "cell_type": "code",
   "execution_count": 17,
   "metadata": {},
   "outputs": [
    {
     "data": {
      "text/plain": "nan"
     },
     "execution_count": 17,
     "metadata": {},
     "output_type": "execute_result"
    }
   ],
   "source": [
    "#看一下这次的RMSE值，比之前的集中预测方法得出的值要小很多，说明误差比较小。\n",
    "rmse = np.sqrt(np.mean(np.power((valid - closing_price),2)))\n",
    "rmse\n",
    "\n"
   ]
  },
  {
   "cell_type": "code",
   "execution_count": 18,
   "metadata": {
    "pycharm": {
     "name": "#%%\n"
    }
   },
   "outputs": [
    {
     "name": "stderr",
     "output_type": "stream",
     "text": [
      "c:\\users\\17801\\pycharmprojects\\nlptt\\venv\\lib\\site-packages\\ipykernel_launcher.py:5: SettingWithCopyWarning: \n",
      "A value is trying to be set on a copy of a slice from a DataFrame.\n",
      "Try using .loc[row_indexer,col_indexer] = value instead\n",
      "\n",
      "See the caveats in the documentation: https://pandas.pydata.org/pandas-docs/stable/user_guide/indexing.html#returning-a-view-versus-a-copy\n",
      "  \"\"\"\n"
     ]
    },
    {
     "data": {
      "text/plain": "<function matplotlib.pyplot.show(close=None, block=None)>"
     },
     "execution_count": 18,
     "metadata": {},
     "output_type": "execute_result"
    },
    {
     "data": {
      "text/plain": "<Figure size 1152x576 with 1 Axes>",
      "image/png": "[encoded data removed]"
     },
     "metadata": {
      "needs_background": "light"
     },
     "output_type": "display_data"
    }
   ],
   "source": [
    "#通过绘图看一下预测情况。\n",
    "#for plotting\n",
    "train = new_data[0:94]\n",
    "valid = new_data[94:]\n",
    "valid['Predictions'] = closing_price\n",
    "#valid['Predictions'] = closing_price\n",
    "# 这两行代码解决 plt 中文显示的问题\n",
    "plt.rcParams['font.sans-serif'] = ['SimHei']\n",
    "plt.rcParams['axes.unicode_minus'] = False\n",
    "\n",
    "plt.figure(figsize=(16,8))\n",
    "plt.plot(train[SELECT])\n",
    "plt.plot(valid[[SELECT,'Predictions']])\n",
    "#plt.plot(valid[['Predictions']])\n",
    "plt.title('弗洛伊德事件情绪预测分析——开心')\n",
    "plt.show"
   ]
  },
  {
   "cell_type": "code",
   "execution_count": 18,
   "metadata": {},
   "outputs": [],
   "source": []
  }
 ],
 "metadata": {
  "kernelspec": {
   "display_name": "Python 3",
   "language": "python",
   "name": "python3"
  },
  "language_info": {
   "codemirror_mode": {
    "name": "ipython",
    "version": 3
   },
   "file_extension": ".py",
   "mimetype": "text/x-python",
   "name": "python",
   "nbconvert_exporter": "python",
   "pygments_lexer": "ipython3",
   "version": "3.6.8"
  }
 },
 "nbformat": 4,
 "nbformat_minor": 4
}