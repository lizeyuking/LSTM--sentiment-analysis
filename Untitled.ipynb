{
 "cells": [
  {
   "cell_type": "code",
   "execution_count": 26,
   "metadata": {
    "scrolled": true
   },
   "outputs": [
    {
     "name": "stdout",
     "output_type": "stream",
     "text": [
      "Epoch 1/1\n",
      " - 4s - loss: 0.0801\n"
     ]
    },
    {
     "name": "stderr",
     "output_type": "stream",
     "text": [
      "c:\\users\\17801\\pycharmprojects\\nlptt\\venv\\lib\\site-packages\\ipykernel_launcher.py:121: SettingWithCopyWarning: \n",
      "A value is trying to be set on a copy of a slice from a DataFrame.\n",
      "Try using .loc[row_indexer,col_indexer] = value instead\n",
      "\n",
      "See the caveats in the documentation: https://pandas.pydata.org/pandas-docs/stable/user_guide/indexing.html#returning-a-view-versus-a-copy\n",
      "c:\\users\\17801\\pycharmprojects\\nlptt\\venv\\lib\\site-packages\\ipykernel_launcher.py:125: SettingWithCopyWarning: \n",
      "A value is trying to be set on a copy of a slice from a DataFrame.\n",
      "Try using .loc[row_indexer,col_indexer] = value instead\n",
      "\n",
      "See the caveats in the documentation: https://pandas.pydata.org/pandas-docs/stable/user_guide/indexing.html#returning-a-view-versus-a-copy\n"
     ]
    },
    {
     "data": {
      "text/plain": [
       "<function matplotlib.pyplot.show(close=None, block=None)>"
      ]
     },
     "execution_count": 26,
     "metadata": {},
     "output_type": "execute_result"
    },
    {
     "data": {
      "image/png": "[encoded data removed]",
      "text/plain": [
       "<Figure size 1152x576 with 1 Axes>"
      ]
     },
     "metadata": {
      "needs_background": "light"
     },
     "output_type": "display_data"
    }
   ],
   "source": [
    "import pandas as pd\n",
    "import numpy as np\n",
    "import matplotlib.pyplot as plt\n",
    "from sklearn.preprocessing import MinMaxScaler\n",
    "from keras.models import Sequential\n",
    "from keras.layers import Dense, Dropout, LSTM\n",
    "\n",
    "df = pd.read_csv('综合时间序列.csv')\n",
    "# setting the index as date\n",
    "df['date'] = pd.to_datetime(df.date,format='%Y-%m-%d')\n",
    "df.index = df['date']\n",
    "\n",
    "#creating dataframe\n",
    "data = df.sort_index(ascending=True, axis=0)\n",
    "new_data = pd.DataFrame(index=range(0,len(df)),columns=['date', 'positive'])\n",
    "for i in range(0,len(data)):\n",
    "    new_data['date'][i] = data['date'][i]\n",
    "    new_data['positive'][i] = data['positive'][i]\n",
    "\n",
    "new_data.index = new_data.date\n",
    "new_data.drop('date', axis=1, inplace=True)\n",
    "\n",
    "dataset = new_data.values\n",
    "\n",
    "train = dataset[0:33,:]\n",
    "valid = dataset[33:,:]\n",
    "\n",
    "scaler = MinMaxScaler(feature_range=(0, 1))\n",
    "scaled_data = scaler.fit_transform(dataset)\n",
    "scaled_data\n",
    "\n",
    "x_train, y_train = [], []\n",
    "for i in range(5,len(train)):\n",
    "    x_train.append(scaled_data[i-5:i,0])\n",
    "    y_train.append(scaled_data[i,0])\n",
    "    \n",
    "x_train, y_train = np.array(x_train), np.array(y_train)\n",
    "\n",
    "x_train.shape\n",
    "\n",
    "y_train.shape\n",
    "\n",
    "x_train = np.reshape(x_train, (x_train.shape[0],x_train.shape[1],1))\n",
    "\n",
    "# create and fit the LSTM network\n",
    "model = Sequential() # 顺序模型，核心操作是添加layer（图层）\n",
    "model.add(LSTM(units=50, return_sequences=True, input_shape=(x_train.shape[1],1)))\n",
    "model.add(LSTM(units=50))\n",
    "model.add(Dense(1)) #全连接层\n",
    "\n",
    "model.compile(loss='mean_squared_error', optimizer='adam') #选择优化器，并指定损失函数\n",
    "model.fit(x_train, y_train, epochs=1, batch_size=1, verbose=2)\n",
    "\n",
    "inputs = new_data[len(new_data)- len(valid) - 5:].values # 1235 - 927 - 60 = 308\n",
    "inputs = inputs.reshape(-1,1)\n",
    "inputs  = scaler.transform(inputs)\n",
    "\n",
    "X_test = []\n",
    "for i in range(5,inputs.shape[0]):\n",
    "    X_test.append(inputs[i-5:i,0])\n",
    "X_test = np.array(X_test)\n",
    "\n",
    "X_test = np.reshape(X_test, (X_test.shape[0],X_test.shape[1],1))\n",
    "X_test.shape\n",
    "\n",
    "closing_price = model.predict(X_test)\n",
    "closing_price = scaler.inverse_transform(closing_price)\n",
    "\n",
    "rmse = np.sqrt(np.mean(np.power((valid - closing_price),2)))\n",
    "rmse\n",
    "\n",
    "#creating dataframe\n",
    "data1 = df.sort_index(ascending=True, axis=0)\n",
    "new_data1 = pd.DataFrame(index=range(0,len(df)),columns=['date', 'negative'])\n",
    "for i in range(0,len(data1)):\n",
    "    new_data1['date'][i] = data['date'][i]\n",
    "    new_data1['negative'][i] = data['negative'][i]\n",
    "\n",
    "new_data1.index = new_data1.date\n",
    "new_data1.drop('date', axis=1, inplace=True)\n",
    "\n",
    "dataset1 = new_data1.values\n",
    "\n",
    "train1 = dataset1[0:33,:]\n",
    "valid1 = dataset1[33:,:]\n",
    "\n",
    "scaler1 = MinMaxScaler(feature_range=(0, 1))\n",
    "scaled_data1 = scaler.fit_transform(dataset1)\n",
    "\n",
    "x_train1, y_train1 = [], []\n",
    "for i in range(5,len(train1)):\n",
    "    x_train1.append(scaled_data1[i-5:i,0])\n",
    "    y_train1.append(scaled_data1[i,0])\n",
    "    \n",
    "x_train1, y_train1 = np.array(x_train1), np.array(y_train1)\n",
    "\n",
    "x_train1 = np.reshape(x_train1, (x_train1.shape[0],x_train1.shape[1],1))\n",
    "\n",
    "\n",
    "inputs1 = new_data1[len(new_data1)- len(valid1) - 5:].values # 1235 - 927 - 60 = 308\n",
    "inputs1 = inputs1.reshape(-1,1)\n",
    "inputs1  = scaler.transform(inputs1)\n",
    "\n",
    "X_test1 = []\n",
    "for i in range(5,inputs1.shape[0]):\n",
    "    X_test1.append(inputs1[i-5:i,0])\n",
    "X_test1 = np.array(X_test1)\n",
    "\n",
    "X_test1 = np.reshape(X_test1, (X_test1.shape[0],X_test1.shape[1],1))\n",
    "X_test1.shape\n",
    "\n",
    "closing_price1 = model.predict(X_test1)\n",
    "closing_price1 = scaler.inverse_transform(closing_price1)\n",
    "\n",
    "rmse1 = np.sqrt(np.mean(np.power((valid1 - closing_price1),2)))\n",
    "\n",
    "\n",
    "#for plotting\n",
    "train = new_data[:33]\n",
    "valid = new_data[33:]\n",
    "valid['Predictions'] = closing_price\n",
    "\n",
    "train1 = new_data1[:33]\n",
    "valid1 = new_data1[33:]\n",
    "valid['Predictions1'] = closing_price1\n",
    "# 这两行代码解决 plt 中文显示的问题\n",
    "plt.rcParams['font.sans-serif'] = ['SimHei']\n",
    "plt.rcParams['axes.unicode_minus'] = False\n",
    "\n",
    "plt.figure(figsize=(16,8))\n",
    "#plt.plot(train['positive'],label='积极',color='red', linestyle='-')\n",
    "plt.plot(valid[['positive']],label='积极预测',color='red', linestyle='--')\n",
    "#plt.plot(train1['negative'],label='消极',color='black', linestyle='-')\n",
    "plt.plot(valid1[['negative']],label='消极预测',color='black', linestyle='--')\n",
    "plt.title('各事件综合民众情绪反应——积极和消极')\n",
    "x = range(0,7*24,24)\n",
    "x_ticks = [\"{}小时\".format(i) for i in x if i<600]\n",
    "plt.xticks(x,('0小时', '24小时', '48小时', '72小时', '96小时', '120小时', '144小时'))\n",
    "\n",
    "plt.legend(loc=2)\n",
    "plt.show"
   ]
  },
  {
   "cell_type": "code",
   "execution_count": null,
   "metadata": {},
   "outputs": [],
   "source": []
  },
  {
   "cell_type": "code",
   "execution_count": null,
   "metadata": {},
   "outputs": [],
   "source": []
  }
 ],
 "metadata": {
  "kernelspec": {
   "display_name": "Python 3",
   "language": "python",
   "name": "python3"
  },
  "language_info": {
   "codemirror_mode": {
    "name": "ipython",
    "version": 3
   },
   "file_extension": ".py",
   "mimetype": "text/x-python",
   "name": "python",
   "nbconvert_exporter": "python",
   "pygments_lexer": "ipython3",
   "version": "3.6.8"
  }
 },
 "nbformat": 4,
 "nbformat_minor": 4
}