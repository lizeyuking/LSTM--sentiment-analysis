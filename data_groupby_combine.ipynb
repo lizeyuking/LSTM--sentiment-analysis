{
 "cells": [
  {
   "cell_type": "code",
   "execution_count": 29,
   "metadata": {},
   "outputs": [],
   "source": [
    "# -*- coding: utf-8 -*-\n",
    "from snownlp import SnowNLP\n",
    "import datetime\n",
    "import time\n",
    "import pandas as pd\n",
    "\n",
    "df = pd.read_csv('C:\\\\Users\\\\15812\\\\Desktop\\\\社交信息传播时序预测算法\\\\黑鹰\\\\黑ying.csv')\n",
    "\n",
    "new_df=df.groupby('date')['txt'].apply(list).reset_index()\n",
    "\n",
    "new_df.to_csv('C:\\\\Users\\\\15812\\\\Desktop\\\\社交信息传播时序预测算法\\\\黑鹰\\\\黑鹰new.csv',encoding='utf_8_sig')\n"
   ]
  },
  {
   "cell_type": "code",
   "execution_count": null,
   "metadata": {},
   "outputs": [],
   "source": []
  }
 ],
 "metadata": {
  "kernelspec": {
   "display_name": "Python 3",
   "language": "python",
   "name": "python3"
  },
  "language_info": {
   "codemirror_mode": {
    "name": "ipython",
    "version": 3
   },
   "file_extension": ".py",
   "mimetype": "text/x-python",
   "name": "python",
   "nbconvert_exporter": "python",
   "pygments_lexer": "ipython3",
   "version": "3.6.5"
  }
 },
 "nbformat": 4,
 "nbformat_minor": 4
}