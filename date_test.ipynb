{
 "cells": [
  {
   "cell_type": "code",
   "execution_count": 5,
   "metadata": {
    "collapsed": true
   },
   "outputs": [
    {
     "name": "stdout",
     "output_type": "stream",
     "text": [
      "            length  positive  negative  anger  disgust  fear  sadness  \\\n",
      "date                                                                    \n",
      "2021-01-02       2         0         0      0        0     0        0   \n",
      "2021-01-04      47         1         2      0        1     1        0   \n",
      "2021-01-05    4111         6        51      0       51     0        0   \n",
      "2021-01-06      26         0         1      0        1     0        0   \n",
      "2021-01-07      70         0         3      0        0     0        3   \n",
      "\n",
      "            surprise  good  happy  \n",
      "date                               \n",
      "2021-01-02         0     0      0  \n",
      "2021-01-04         0     0      1  \n",
      "2021-01-05         0     4      2  \n",
      "2021-01-06         0     0      0  \n",
      "2021-01-07         0     0      0  \n"
     ]
    }
   ],
   "source": [
    "import datetime\n",
    "import time\n",
    "import pandas as pd\n",
    "import matplotlib.pyplot as plt\n",
    "import math\n",
    "\n",
    "df = pd.read_csv('TTtest.csv',nrows=1166)\n",
    "#df['from'] = df['from'].astype('str')\n",
    "df['date'] = [x for x in df['date']]\n",
    "#print(df.head())\n",
    "df['date'] = \"2021年\"+df['date']\n",
    "#df['date']=df['date'].str.replace('年','-')\n",
    "#df['date']=df['date'].str.replace('月','-')\n",
    "df['date'] = [datetime.datetime.strptime(str(date), u\"%Y年%m月%d日\") for date in df['date']]\n",
    "\n",
    "#output_df = pd.concat([df,df['date']], axis=1)\n",
    "#output_df.to_csv('C:\\\\Users\\\\15812\\\\Desktop\\\\社交信息传播时序预测算法\\\\菠萝滞销结果清洗.csv',encoding='utf_8_sig', index=False)\n",
    "#print(output_df.head())\n",
    "new_df=df.groupby('date').sum()\n",
    "#new_df['date']=\n",
    "#print(df.groupby('date').sum())\n",
    "print(new_df.head())\n",
    "new_df.to_csv('中美会谈时间序列.csv',encoding='utf_8_sig')\n"
   ]
  }
 ],
 "metadata": {
  "kernelspec": {
   "display_name": "Python 3",
   "language": "python",
   "name": "python3"
  },
  "language_info": {
   "codemirror_mode": {
    "name": "ipython",
    "version": 2
   },
   "file_extension": ".py",
   "mimetype": "text/x-python",
   "name": "python",
   "nbconvert_exporter": "python",
   "pygments_lexer": "ipython2",
   "version": "2.7.6"
  }
 },
 "nbformat": 4,
 "nbformat_minor": 0
}